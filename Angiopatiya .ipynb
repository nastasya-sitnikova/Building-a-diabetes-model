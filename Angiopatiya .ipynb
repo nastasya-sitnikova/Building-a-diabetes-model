{
  "nbformat": 4,
  "nbformat_minor": 0,
  "metadata": {
    "colab": {
      "name": "Angiopatiya.ipynb",
      "provenance": [],
      "collapsed_sections": []
    },
    "kernelspec": {
      "name": "python3",
      "display_name": "Python 3"
    },
    "language_info": {
      "name": "python"
    }
  },
  "cells": [
    {
      "cell_type": "code",
      "execution_count": 93,
      "metadata": {
        "id": "1Dz3W7UE5N5k"
      },
      "outputs": [],
      "source": [
        "import pandas as pd"
      ]
    },
    {
      "cell_type": "code",
      "source": [
        "df = pd.read_excel('model_3.xlsx') # Считываем данные\n",
        "df.head()"
      ],
      "metadata": {
        "colab": {
          "base_uri": "https://localhost:8080/",
          "height": 236
        },
        "id": "9epCMYOf7ZTf",
        "outputId": "9ab71572-9c06-44a3-c11f-8b256984e4bf"
      },
      "execution_count": 94,
      "outputs": [
        {
          "output_type": "execute_result",
          "data": {
            "text/plain": [
              "   id_pacienta  Vozrast  pol  staj  HbA1c   TTG  T4cv  rost   ves     Hb  ...  \\\n",
              "0          301        7    0     0   15.8  3.55  12.9   128  24.0  116.0  ...   \n",
              "1          301        7    0     5   12.4  5.04  15.4   127  26.0  137.0  ...   \n",
              "2          301        8    0    16   10.3  2.11  13.5   133  30.0  127.0  ...   \n",
              "3          301        8    0    11    0.0  0.00   0.0   130  28.0  138.0  ...   \n",
              "4          301        9    0    23    9.7  2.04  18.1   135  32.0  132.0  ...   \n",
              "\n",
              "   bilirub_nepryam  VD  Angiodist  Angiopat  katapakta  miopiya  Vis(Lev)  \\\n",
              "0              0.0  -1         -1         1         -1       -1       0.4   \n",
              "1              0.0  -1         -1        -1         -1       -1       1.0   \n",
              "2              0.0  -1         -1        -1         -1       -1       1.0   \n",
              "3              0.0  -1         -1         1         -1       -1       1.0   \n",
              "4              0.0  -1          1        -1         -1       -1       1.0   \n",
              "\n",
              "   Vis(Prav)  PNP_enmg  glukoza  \n",
              "0        1.0         1        1  \n",
              "1        1.0        -1        1  \n",
              "2        1.0        -1        1  \n",
              "3        1.0        -1        1  \n",
              "4        1.0        -1       -1  \n",
              "\n",
              "[5 rows x 43 columns]"
            ],
            "text/html": [
              "\n",
              "  <div id=\"df-29942894-7d2d-4042-b001-60f68e4167ad\">\n",
              "    <div class=\"colab-df-container\">\n",
              "      <div>\n",
              "<style scoped>\n",
              "    .dataframe tbody tr th:only-of-type {\n",
              "        vertical-align: middle;\n",
              "    }\n",
              "\n",
              "    .dataframe tbody tr th {\n",
              "        vertical-align: top;\n",
              "    }\n",
              "\n",
              "    .dataframe thead th {\n",
              "        text-align: right;\n",
              "    }\n",
              "</style>\n",
              "<table border=\"1\" class=\"dataframe\">\n",
              "  <thead>\n",
              "    <tr style=\"text-align: right;\">\n",
              "      <th></th>\n",
              "      <th>id_pacienta</th>\n",
              "      <th>Vozrast</th>\n",
              "      <th>pol</th>\n",
              "      <th>staj</th>\n",
              "      <th>HbA1c</th>\n",
              "      <th>TTG</th>\n",
              "      <th>T4cv</th>\n",
              "      <th>rost</th>\n",
              "      <th>ves</th>\n",
              "      <th>Hb</th>\n",
              "      <th>...</th>\n",
              "      <th>bilirub_nepryam</th>\n",
              "      <th>VD</th>\n",
              "      <th>Angiodist</th>\n",
              "      <th>Angiopat</th>\n",
              "      <th>katapakta</th>\n",
              "      <th>miopiya</th>\n",
              "      <th>Vis(Lev)</th>\n",
              "      <th>Vis(Prav)</th>\n",
              "      <th>PNP_enmg</th>\n",
              "      <th>glukoza</th>\n",
              "    </tr>\n",
              "  </thead>\n",
              "  <tbody>\n",
              "    <tr>\n",
              "      <th>0</th>\n",
              "      <td>301</td>\n",
              "      <td>7</td>\n",
              "      <td>0</td>\n",
              "      <td>0</td>\n",
              "      <td>15.8</td>\n",
              "      <td>3.55</td>\n",
              "      <td>12.9</td>\n",
              "      <td>128</td>\n",
              "      <td>24.0</td>\n",
              "      <td>116.0</td>\n",
              "      <td>...</td>\n",
              "      <td>0.0</td>\n",
              "      <td>-1</td>\n",
              "      <td>-1</td>\n",
              "      <td>1</td>\n",
              "      <td>-1</td>\n",
              "      <td>-1</td>\n",
              "      <td>0.4</td>\n",
              "      <td>1.0</td>\n",
              "      <td>1</td>\n",
              "      <td>1</td>\n",
              "    </tr>\n",
              "    <tr>\n",
              "      <th>1</th>\n",
              "      <td>301</td>\n",
              "      <td>7</td>\n",
              "      <td>0</td>\n",
              "      <td>5</td>\n",
              "      <td>12.4</td>\n",
              "      <td>5.04</td>\n",
              "      <td>15.4</td>\n",
              "      <td>127</td>\n",
              "      <td>26.0</td>\n",
              "      <td>137.0</td>\n",
              "      <td>...</td>\n",
              "      <td>0.0</td>\n",
              "      <td>-1</td>\n",
              "      <td>-1</td>\n",
              "      <td>-1</td>\n",
              "      <td>-1</td>\n",
              "      <td>-1</td>\n",
              "      <td>1.0</td>\n",
              "      <td>1.0</td>\n",
              "      <td>-1</td>\n",
              "      <td>1</td>\n",
              "    </tr>\n",
              "    <tr>\n",
              "      <th>2</th>\n",
              "      <td>301</td>\n",
              "      <td>8</td>\n",
              "      <td>0</td>\n",
              "      <td>16</td>\n",
              "      <td>10.3</td>\n",
              "      <td>2.11</td>\n",
              "      <td>13.5</td>\n",
              "      <td>133</td>\n",
              "      <td>30.0</td>\n",
              "      <td>127.0</td>\n",
              "      <td>...</td>\n",
              "      <td>0.0</td>\n",
              "      <td>-1</td>\n",
              "      <td>-1</td>\n",
              "      <td>-1</td>\n",
              "      <td>-1</td>\n",
              "      <td>-1</td>\n",
              "      <td>1.0</td>\n",
              "      <td>1.0</td>\n",
              "      <td>-1</td>\n",
              "      <td>1</td>\n",
              "    </tr>\n",
              "    <tr>\n",
              "      <th>3</th>\n",
              "      <td>301</td>\n",
              "      <td>8</td>\n",
              "      <td>0</td>\n",
              "      <td>11</td>\n",
              "      <td>0.0</td>\n",
              "      <td>0.00</td>\n",
              "      <td>0.0</td>\n",
              "      <td>130</td>\n",
              "      <td>28.0</td>\n",
              "      <td>138.0</td>\n",
              "      <td>...</td>\n",
              "      <td>0.0</td>\n",
              "      <td>-1</td>\n",
              "      <td>-1</td>\n",
              "      <td>1</td>\n",
              "      <td>-1</td>\n",
              "      <td>-1</td>\n",
              "      <td>1.0</td>\n",
              "      <td>1.0</td>\n",
              "      <td>-1</td>\n",
              "      <td>1</td>\n",
              "    </tr>\n",
              "    <tr>\n",
              "      <th>4</th>\n",
              "      <td>301</td>\n",
              "      <td>9</td>\n",
              "      <td>0</td>\n",
              "      <td>23</td>\n",
              "      <td>9.7</td>\n",
              "      <td>2.04</td>\n",
              "      <td>18.1</td>\n",
              "      <td>135</td>\n",
              "      <td>32.0</td>\n",
              "      <td>132.0</td>\n",
              "      <td>...</td>\n",
              "      <td>0.0</td>\n",
              "      <td>-1</td>\n",
              "      <td>1</td>\n",
              "      <td>-1</td>\n",
              "      <td>-1</td>\n",
              "      <td>-1</td>\n",
              "      <td>1.0</td>\n",
              "      <td>1.0</td>\n",
              "      <td>-1</td>\n",
              "      <td>-1</td>\n",
              "    </tr>\n",
              "  </tbody>\n",
              "</table>\n",
              "<p>5 rows × 43 columns</p>\n",
              "</div>\n",
              "      <button class=\"colab-df-convert\" onclick=\"convertToInteractive('df-29942894-7d2d-4042-b001-60f68e4167ad')\"\n",
              "              title=\"Convert this dataframe to an interactive table.\"\n",
              "              style=\"display:none;\">\n",
              "        \n",
              "  <svg xmlns=\"http://www.w3.org/2000/svg\" height=\"24px\"viewBox=\"0 0 24 24\"\n",
              "       width=\"24px\">\n",
              "    <path d=\"M0 0h24v24H0V0z\" fill=\"none\"/>\n",
              "    <path d=\"M18.56 5.44l.94 2.06.94-2.06 2.06-.94-2.06-.94-.94-2.06-.94 2.06-2.06.94zm-11 1L8.5 8.5l.94-2.06 2.06-.94-2.06-.94L8.5 2.5l-.94 2.06-2.06.94zm10 10l.94 2.06.94-2.06 2.06-.94-2.06-.94-.94-2.06-.94 2.06-2.06.94z\"/><path d=\"M17.41 7.96l-1.37-1.37c-.4-.4-.92-.59-1.43-.59-.52 0-1.04.2-1.43.59L10.3 9.45l-7.72 7.72c-.78.78-.78 2.05 0 2.83L4 21.41c.39.39.9.59 1.41.59.51 0 1.02-.2 1.41-.59l7.78-7.78 2.81-2.81c.8-.78.8-2.07 0-2.86zM5.41 20L4 18.59l7.72-7.72 1.47 1.35L5.41 20z\"/>\n",
              "  </svg>\n",
              "      </button>\n",
              "      \n",
              "  <style>\n",
              "    .colab-df-container {\n",
              "      display:flex;\n",
              "      flex-wrap:wrap;\n",
              "      gap: 12px;\n",
              "    }\n",
              "\n",
              "    .colab-df-convert {\n",
              "      background-color: #E8F0FE;\n",
              "      border: none;\n",
              "      border-radius: 50%;\n",
              "      cursor: pointer;\n",
              "      display: none;\n",
              "      fill: #1967D2;\n",
              "      height: 32px;\n",
              "      padding: 0 0 0 0;\n",
              "      width: 32px;\n",
              "    }\n",
              "\n",
              "    .colab-df-convert:hover {\n",
              "      background-color: #E2EBFA;\n",
              "      box-shadow: 0px 1px 2px rgba(60, 64, 67, 0.3), 0px 1px 3px 1px rgba(60, 64, 67, 0.15);\n",
              "      fill: #174EA6;\n",
              "    }\n",
              "\n",
              "    [theme=dark] .colab-df-convert {\n",
              "      background-color: #3B4455;\n",
              "      fill: #D2E3FC;\n",
              "    }\n",
              "\n",
              "    [theme=dark] .colab-df-convert:hover {\n",
              "      background-color: #434B5C;\n",
              "      box-shadow: 0px 1px 3px 1px rgba(0, 0, 0, 0.15);\n",
              "      filter: drop-shadow(0px 1px 2px rgba(0, 0, 0, 0.3));\n",
              "      fill: #FFFFFF;\n",
              "    }\n",
              "  </style>\n",
              "\n",
              "      <script>\n",
              "        const buttonEl =\n",
              "          document.querySelector('#df-29942894-7d2d-4042-b001-60f68e4167ad button.colab-df-convert');\n",
              "        buttonEl.style.display =\n",
              "          google.colab.kernel.accessAllowed ? 'block' : 'none';\n",
              "\n",
              "        async function convertToInteractive(key) {\n",
              "          const element = document.querySelector('#df-29942894-7d2d-4042-b001-60f68e4167ad');\n",
              "          const dataTable =\n",
              "            await google.colab.kernel.invokeFunction('convertToInteractive',\n",
              "                                                     [key], {});\n",
              "          if (!dataTable) return;\n",
              "\n",
              "          const docLinkHtml = 'Like what you see? Visit the ' +\n",
              "            '<a target=\"_blank\" href=https://colab.research.google.com/notebooks/data_table.ipynb>data table notebook</a>'\n",
              "            + ' to learn more about interactive tables.';\n",
              "          element.innerHTML = '';\n",
              "          dataTable['output_type'] = 'display_data';\n",
              "          await google.colab.output.renderOutput(dataTable, element);\n",
              "          const docLink = document.createElement('div');\n",
              "          docLink.innerHTML = docLinkHtml;\n",
              "          element.appendChild(docLink);\n",
              "        }\n",
              "      </script>\n",
              "    </div>\n",
              "  </div>\n",
              "  "
            ]
          },
          "metadata": {},
          "execution_count": 94
        }
      ]
    },
    {
      "cell_type": "code",
      "source": [
        "df['id_pacienta'].value_counts()"
      ],
      "metadata": {
        "colab": {
          "base_uri": "https://localhost:8080/"
        },
        "id": "UKZsgMB07ZQh",
        "outputId": "9fd0572e-ea4a-4f83-ecd4-70aebc11a011"
      },
      "execution_count": 95,
      "outputs": [
        {
          "output_type": "execute_result",
          "data": {
            "text/plain": [
              "527      14\n",
              "2440     14\n",
              "2013     13\n",
              "1544     13\n",
              "12053    13\n",
              "         ..\n",
              "434       1\n",
              "2413      1\n",
              "2412      1\n",
              "436       1\n",
              "27009     1\n",
              "Name: id_pacienta, Length: 828, dtype: int64"
            ]
          },
          "metadata": {},
          "execution_count": 95
        }
      ]
    },
    {
      "cell_type": "code",
      "source": [
        "del df['id_pacienta']"
      ],
      "metadata": {
        "id": "VgEf7Xzb7ZNW"
      },
      "execution_count": 96,
      "outputs": []
    },
    {
      "cell_type": "code",
      "source": [
        "X_angiopat = df.drop('Angiopat', axis = 1) # зависимые переменные\n",
        "y_angiopat = df['Angiopat'] # независимая переменная\n",
        "X_angiodist = df.drop('Angiodist', axis = 1) # зависимые переменные\n",
        "y_angiodist = df['Angiodist'] # независимая переменная\n",
        "X_vd = df.drop('VD', axis = 1) # зависимые переменные\n",
        "y_vd = df['VD'] # независимая переменная"
      ],
      "metadata": {
        "id": "b8AiqHlJ7fXR"
      },
      "execution_count": 97,
      "outputs": []
    },
    {
      "cell_type": "code",
      "source": [
        "from sklearn.feature_selection import mutual_info_classif\n",
        "mutual_info_classif(X_angiopat,y_angiopat) # вычисляем MI"
      ],
      "metadata": {
        "colab": {
          "base_uri": "https://localhost:8080/"
        },
        "id": "ahT5FMoi7fUb",
        "outputId": "83e30229-1db2-4c4d-c0ff-5a967ff8db17"
      },
      "execution_count": 98,
      "outputs": [
        {
          "output_type": "execute_result",
          "data": {
            "text/plain": [
              "array([0.02416526, 0.01757363, 0.        , 0.00110887, 0.        ,\n",
              "       0.        , 0.01190706, 0.02291569, 0.00233522, 0.        ,\n",
              "       0.0142912 , 0.        , 0.00165802, 0.00701795, 0.        ,\n",
              "       0.00560519, 0.00423427, 0.01213634, 0.00383199, 0.01480585,\n",
              "       0.        , 0.02183595, 0.00892346, 0.        , 0.        ,\n",
              "       0.01547779, 0.00135103, 0.00467215, 0.        , 0.00493222,\n",
              "       0.00308484, 0.0080339 , 0.00437893, 0.00099431, 0.11835404,\n",
              "       0.        , 0.05523536, 0.02035138, 0.02761597, 0.        ,\n",
              "       0.00467243])"
            ]
          },
          "metadata": {},
          "execution_count": 98
        }
      ]
    },
    {
      "cell_type": "code",
      "source": [
        "importances = pd.Series(mutual_info_classif(X_angiopat, y_angiopat), index=X_angiopat.columns) # записываем в Серию\n",
        "importances.sort_values().plot.bar() # сортируем и рисуем столбиковую диаграмму"
      ],
      "metadata": {
        "colab": {
          "base_uri": "https://localhost:8080/",
          "height": 353
        },
        "id": "PEt4xl1h7fRH",
        "outputId": "6098249b-30d4-4773-bf76-2b0dfe122326"
      },
      "execution_count": 99,
      "outputs": [
        {
          "output_type": "execute_result",
          "data": {
            "text/plain": [
              "<matplotlib.axes._subplots.AxesSubplot at 0x7fb81d9c0450>"
            ]
          },
          "metadata": {},
          "execution_count": 99
        },
        {
          "output_type": "display_data",
          "data": {
            "text/plain": [
              "<Figure size 432x288 with 1 Axes>"
            ],
            "image/png": "[encoded data removed]"
          },
          "metadata": {
            "needs_background": "light"
          }
        }
      ]
    },
    {
      "cell_type": "code",
      "source": [
        "X_angiopat = X_angiopat[['Vozrast', 'Vis(Lev)', 'Vis(Prav)', 'Angiodist']]"
      ],
      "metadata": {
        "id": "xeKIkcy9mS2C"
      },
      "execution_count": 100,
      "outputs": []
    },
    {
      "cell_type": "code",
      "source": [
        "# Проведем стандартизацию данных\n",
        "from sklearn.preprocessing import StandardScaler\n",
        "scaler = StandardScaler()\n",
        "X_angiopat = scaler.fit_transform(X_angiopat)"
      ],
      "metadata": {
        "id": "Gbzf9lDumSzS"
      },
      "execution_count": 101,
      "outputs": []
    },
    {
      "cell_type": "code",
      "source": [
        "# Вопользуемся методом главных компонент и сократим данные до 2х компонент\n",
        "from sklearn.decomposition import PCA\n",
        "pca_angiopat = PCA(n_components = 2) # Cоздаем экземпляр класса, n_components - количества компонент\n",
        "X_pca_angiopat = pca_angiopat.fit_transform(X_angiopat) # Трансформируем данные: из 46 признаков получаем 2\n",
        "X_pca_angiopat # Значения компонент"
      ],
      "metadata": {
        "colab": {
          "base_uri": "https://localhost:8080/"
        },
        "id": "xPsYxQjgm6I0",
        "outputId": "a2d48914-28fe-4b60-fe47-2483638df0ca"
      },
      "execution_count": 102,
      "outputs": [
        {
          "output_type": "execute_result",
          "data": {
            "text/plain": [
              "array([[-0.39939302, -0.14412169],\n",
              "       [ 0.42158529, -0.04600515],\n",
              "       [ 0.46730362, -0.16929658],\n",
              "       ...,\n",
              "       [ 0.78733199, -1.03233665],\n",
              "       [-0.23319726, -1.28944566],\n",
              "       [-0.13992211,  1.40734722]])"
            ]
          },
          "metadata": {},
          "execution_count": 102
        }
      ]
    },
    {
      "cell_type": "code",
      "source": [
        "# Запишем результат в новый DF и добавим столбец class\n",
        "result_angiopat = pd.DataFrame()\n",
        "result_angiopat['PC1'] = X_pca_angiopat[: , 0]\n",
        "result_angiopat['PC2'] = X_pca_angiopat[: , 1]\n",
        "result_angiopat['class'] = y_angiopat\n",
        "result_angiopat.head()"
      ],
      "metadata": {
        "colab": {
          "base_uri": "https://localhost:8080/",
          "height": 206
        },
        "id": "vI2k7WyFnSve",
        "outputId": "a34bad34-8b1e-4757-8f15-598018bbd53d"
      },
      "execution_count": 103,
      "outputs": [
        {
          "output_type": "execute_result",
          "data": {
            "text/plain": [
              "        PC1       PC2  class\n",
              "0 -0.399393 -0.144122      1\n",
              "1  0.421585 -0.046005     -1\n",
              "2  0.467304 -0.169297     -1\n",
              "3  0.467304 -0.169297      1\n",
              "4  0.532870  1.490309     -1"
            ],
            "text/html": [
              "\n",
              "  <div id=\"df-887729e7-9cc5-4f26-baff-b9d07cdfb544\">\n",
              "    <div class=\"colab-df-container\">\n",
              "      <div>\n",
              "<style scoped>\n",
              "    .dataframe tbody tr th:only-of-type {\n",
              "        vertical-align: middle;\n",
              "    }\n",
              "\n",
              "    .dataframe tbody tr th {\n",
              "        vertical-align: top;\n",
              "    }\n",
              "\n",
              "    .dataframe thead th {\n",
              "        text-align: right;\n",
              "    }\n",
              "</style>\n",
              "<table border=\"1\" class=\"dataframe\">\n",
              "  <thead>\n",
              "    <tr style=\"text-align: right;\">\n",
              "      <th></th>\n",
              "      <th>PC1</th>\n",
              "      <th>PC2</th>\n",
              "      <th>class</th>\n",
              "    </tr>\n",
              "  </thead>\n",
              "  <tbody>\n",
              "    <tr>\n",
              "      <th>0</th>\n",
              "      <td>-0.399393</td>\n",
              "      <td>-0.144122</td>\n",
              "      <td>1</td>\n",
              "    </tr>\n",
              "    <tr>\n",
              "      <th>1</th>\n",
              "      <td>0.421585</td>\n",
              "      <td>-0.046005</td>\n",
              "      <td>-1</td>\n",
              "    </tr>\n",
              "    <tr>\n",
              "      <th>2</th>\n",
              "      <td>0.467304</td>\n",
              "      <td>-0.169297</td>\n",
              "      <td>-1</td>\n",
              "    </tr>\n",
              "    <tr>\n",
              "      <th>3</th>\n",
              "      <td>0.467304</td>\n",
              "      <td>-0.169297</td>\n",
              "      <td>1</td>\n",
              "    </tr>\n",
              "    <tr>\n",
              "      <th>4</th>\n",
              "      <td>0.532870</td>\n",
              "      <td>1.490309</td>\n",
              "      <td>-1</td>\n",
              "    </tr>\n",
              "  </tbody>\n",
              "</table>\n",
              "</div>\n",
              "      <button class=\"colab-df-convert\" onclick=\"convertToInteractive('df-887729e7-9cc5-4f26-baff-b9d07cdfb544')\"\n",
              "              title=\"Convert this dataframe to an interactive table.\"\n",
              "              style=\"display:none;\">\n",
              "        \n",
              "  <svg xmlns=\"http://www.w3.org/2000/svg\" height=\"24px\"viewBox=\"0 0 24 24\"\n",
              "       width=\"24px\">\n",
              "    <path d=\"M0 0h24v24H0V0z\" fill=\"none\"/>\n",
              "    <path d=\"M18.56 5.44l.94 2.06.94-2.06 2.06-.94-2.06-.94-.94-2.06-.94 2.06-2.06.94zm-11 1L8.5 8.5l.94-2.06 2.06-.94-2.06-.94L8.5 2.5l-.94 2.06-2.06.94zm10 10l.94 2.06.94-2.06 2.06-.94-2.06-.94-.94-2.06-.94 2.06-2.06.94z\"/><path d=\"M17.41 7.96l-1.37-1.37c-.4-.4-.92-.59-1.43-.59-.52 0-1.04.2-1.43.59L10.3 9.45l-7.72 7.72c-.78.78-.78 2.05 0 2.83L4 21.41c.39.39.9.59 1.41.59.51 0 1.02-.2 1.41-.59l7.78-7.78 2.81-2.81c.8-.78.8-2.07 0-2.86zM5.41 20L4 18.59l7.72-7.72 1.47 1.35L5.41 20z\"/>\n",
              "  </svg>\n",
              "      </button>\n",
              "      \n",
              "  <style>\n",
              "    .colab-df-container {\n",
              "      display:flex;\n",
              "      flex-wrap:wrap;\n",
              "      gap: 12px;\n",
              "    }\n",
              "\n",
              "    .colab-df-convert {\n",
              "      background-color: #E8F0FE;\n",
              "      border: none;\n",
              "      border-radius: 50%;\n",
              "      cursor: pointer;\n",
              "      display: none;\n",
              "      fill: #1967D2;\n",
              "      height: 32px;\n",
              "      padding: 0 0 0 0;\n",
              "      width: 32px;\n",
              "    }\n",
              "\n",
              "    .colab-df-convert:hover {\n",
              "      background-color: #E2EBFA;\n",
              "      box-shadow: 0px 1px 2px rgba(60, 64, 67, 0.3), 0px 1px 3px 1px rgba(60, 64, 67, 0.15);\n",
              "      fill: #174EA6;\n",
              "    }\n",
              "\n",
              "    [theme=dark] .colab-df-convert {\n",
              "      background-color: #3B4455;\n",
              "      fill: #D2E3FC;\n",
              "    }\n",
              "\n",
              "    [theme=dark] .colab-df-convert:hover {\n",
              "      background-color: #434B5C;\n",
              "      box-shadow: 0px 1px 3px 1px rgba(0, 0, 0, 0.15);\n",
              "      filter: drop-shadow(0px 1px 2px rgba(0, 0, 0, 0.3));\n",
              "      fill: #FFFFFF;\n",
              "    }\n",
              "  </style>\n",
              "\n",
              "      <script>\n",
              "        const buttonEl =\n",
              "          document.querySelector('#df-887729e7-9cc5-4f26-baff-b9d07cdfb544 button.colab-df-convert');\n",
              "        buttonEl.style.display =\n",
              "          google.colab.kernel.accessAllowed ? 'block' : 'none';\n",
              "\n",
              "        async function convertToInteractive(key) {\n",
              "          const element = document.querySelector('#df-887729e7-9cc5-4f26-baff-b9d07cdfb544');\n",
              "          const dataTable =\n",
              "            await google.colab.kernel.invokeFunction('convertToInteractive',\n",
              "                                                     [key], {});\n",
              "          if (!dataTable) return;\n",
              "\n",
              "          const docLinkHtml = 'Like what you see? Visit the ' +\n",
              "            '<a target=\"_blank\" href=https://colab.research.google.com/notebooks/data_table.ipynb>data table notebook</a>'\n",
              "            + ' to learn more about interactive tables.';\n",
              "          element.innerHTML = '';\n",
              "          dataTable['output_type'] = 'display_data';\n",
              "          await google.colab.output.renderOutput(dataTable, element);\n",
              "          const docLink = document.createElement('div');\n",
              "          docLink.innerHTML = docLinkHtml;\n",
              "          element.appendChild(docLink);\n",
              "        }\n",
              "      </script>\n",
              "    </div>\n",
              "  </div>\n",
              "  "
            ]
          },
          "metadata": {},
          "execution_count": 103
        }
      ]
    },
    {
      "cell_type": "code",
      "source": [
        "import matplotlib.pyplot as plt\n",
        "fig = plt.figure(figsize = (8,8))\n",
        "r1 = result_angiopat[result_angiopat['class'] == -1]\n",
        "plt.scatter(r1['PC1'], r1['PC2'], c='r', marker='+')\n",
        "r2 =  result_angiopat[result_angiopat['class'] == 1]\n",
        "plt.scatter(r2['PC1'], r2['PC2'], c='b', marker='o')\n",
        "plt.show()"
      ],
      "metadata": {
        "colab": {
          "base_uri": "https://localhost:8080/",
          "height": 483
        },
        "id": "D1GsapAfm6D2",
        "outputId": "93aad8b3-2f21-4c18-d685-a5a875f35fc3"
      },
      "execution_count": 104,
      "outputs": [
        {
          "output_type": "display_data",
          "data": {
            "text/plain": [
              "<Figure size 576x576 with 1 Axes>"
            ],
            "image/png": "[encoded data removed]"
          },
          "metadata": {
            "needs_background": "light"
          }
        }
      ]
    },
    {
      "cell_type": "code",
      "source": [
        "# Уберем выбросы с помощью DBSCAN\n",
        "from sklearn.cluster import DBSCAN\n",
        "import numpy as np\n",
        "X = result_angiopat[['PC1', 'PC2']]\n",
        "dbscan = DBSCAN(eps=1, min_samples=10) # Создаем экземпляр класса\n",
        "labels = dbscan.fit_predict(X)\n",
        "print('Получены кластеры:', np.unique(labels))\n",
        "X['dbscan_lab'] = labels\n",
        "X['class'] = y_angiopat"
      ],
      "metadata": {
        "colab": {
          "base_uri": "https://localhost:8080/"
        },
        "id": "oBT2gU6FnuMD",
        "outputId": "a99ad462-9c31-4e53-f5e4-ee0910adb267"
      },
      "execution_count": 105,
      "outputs": [
        {
          "output_type": "stream",
          "name": "stdout",
          "text": [
            "Получены кластеры: [-1  0]\n"
          ]
        }
      ]
    },
    {
      "cell_type": "code",
      "source": [
        "# Визуализируем\n",
        "fig = plt.figure(figsize = (8,8))\n",
        "r1 = X[X['dbscan_lab'] == -1]\n",
        "plt.scatter(X['PC1'], X['PC2'], c='r', marker='+') # шум\n",
        "r2 = X[X['dbscan_lab'] == 0]\n",
        "plt.scatter(r2['PC1'], r2['PC2'], c='b', marker='o') # не шум\n",
        "plt.show()"
      ],
      "metadata": {
        "colab": {
          "base_uri": "https://localhost:8080/",
          "height": 483
        },
        "id": "zdHONg4bnuId",
        "outputId": "8cc9e2b7-d192-4a74-82c2-ce982df1842c"
      },
      "execution_count": 106,
      "outputs": [
        {
          "output_type": "display_data",
          "data": {
            "text/plain": [
              "<Figure size 576x576 with 1 Axes>"
            ],
            "image/png": "[encoded data removed]"
          },
          "metadata": {
            "needs_background": "light"
          }
        }
      ]
    },
    {
      "cell_type": "code",
      "source": [
        "X = X[X['dbscan_lab'] == 0] # Возьмем только хорошие точки"
      ],
      "metadata": {
        "id": "ktHK5ErOnu3j"
      },
      "execution_count": 107,
      "outputs": []
    },
    {
      "cell_type": "code",
      "source": [
        "fig = plt.figure(figsize = (8,8))\n",
        "r1 = X[X['class'] == -1]\n",
        "plt.scatter(r1['PC1'], r1['PC2'], c='r', marker='+')\n",
        "r2 = X[X['class'] == 1]\n",
        "plt.scatter(r2['PC1'], r2['PC2'], c='b', marker='o')\n",
        "plt.show()"
      ],
      "metadata": {
        "colab": {
          "base_uri": "https://localhost:8080/",
          "height": 483
        },
        "id": "ojsvskFrn2IR",
        "outputId": "b398accd-4c8b-4c42-cfb1-6734de709960"
      },
      "execution_count": 108,
      "outputs": [
        {
          "output_type": "display_data",
          "data": {
            "text/plain": [
              "<Figure size 576x576 with 1 Axes>"
            ],
            "image/png": "[encoded data removed]"
          },
          "metadata": {
            "needs_background": "light"
          }
        }
      ]
    },
    {
      "cell_type": "code",
      "source": [
        "X_train = X[['PC1', 'PC2']].values\n",
        "y_train = X['class'].values "
      ],
      "metadata": {
        "id": "Y0rrt3LAn2Fn"
      },
      "execution_count": 109,
      "outputs": []
    },
    {
      "cell_type": "code",
      "source": [
        "from sklearn.metrics import classification_report\n",
        "from sklearn.model_selection import GridSearchCV\n",
        "from sklearn.metrics import fbeta_score, make_scorer\n",
        "from sklearn.metrics import accuracy_score\n",
        "def classification_report_with_accuracy_score(X_angiopat, y_angiopat):\n",
        "    print (classification_report(X_angiopat, y_angiopat)) # print classification report\n",
        "    return accuracy_score(X_angiopat, y_angiopat) # return accuracy score"
      ],
      "metadata": {
        "id": "nezu73fbTMlx"
      },
      "execution_count": 110,
      "outputs": []
    },
    {
      "cell_type": "code",
      "source": [
        "#Модель логистической регрессии\n",
        "from sklearn.linear_model import LogisticRegression\n",
        "logreg = LogisticRegression(C = 0.1, max_iter=500, penalty='l1', solver= 'liblinear')\n",
        "logreg = logreg.fit(X_train, y_train)"
      ],
      "metadata": {
        "id": "hFLANqLiTPS8"
      },
      "execution_count": 111,
      "outputs": []
    },
    {
      "cell_type": "code",
      "source": [
        "from sklearn.model_selection import cross_val_score\n",
        "# Оценим качество с помощью перекрестной проверки и доли правильных ответов\n",
        "cross = cross_val_score(logreg, X_angiopat, y_angiopat, cv=5, scoring = make_scorer(classification_report_with_accuracy_score))\n",
        "np.mean(cross)"
      ],
      "metadata": {
        "colab": {
          "base_uri": "https://localhost:8080/"
        },
        "id": "WqzCZ9apTPPi",
        "outputId": "fad9939b-4b2f-451c-f6e9-55e4092751ea"
      },
      "execution_count": 112,
      "outputs": [
        {
          "output_type": "stream",
          "name": "stdout",
          "text": [
            "              precision    recall  f1-score   support\n",
            "\n",
            "          -1       0.79      0.72      0.75       388\n",
            "           1       0.56      0.65      0.60       211\n",
            "\n",
            "    accuracy                           0.70       599\n",
            "   macro avg       0.68      0.69      0.68       599\n",
            "weighted avg       0.71      0.70      0.70       599\n",
            "\n",
            "              precision    recall  f1-score   support\n",
            "\n",
            "          -1       0.79      0.73      0.76       388\n",
            "           1       0.56      0.63      0.60       211\n",
            "\n",
            "    accuracy                           0.70       599\n",
            "   macro avg       0.67      0.68      0.68       599\n",
            "weighted avg       0.71      0.70      0.70       599\n",
            "\n",
            "              precision    recall  f1-score   support\n",
            "\n",
            "          -1       0.79      0.81      0.80       388\n",
            "           1       0.64      0.61      0.62       211\n",
            "\n",
            "    accuracy                           0.74       599\n",
            "   macro avg       0.72      0.71      0.71       599\n",
            "weighted avg       0.74      0.74      0.74       599\n",
            "\n",
            "              precision    recall  f1-score   support\n",
            "\n",
            "          -1       0.76      0.83      0.79       388\n",
            "           1       0.62      0.51      0.56       211\n",
            "\n",
            "    accuracy                           0.72       599\n",
            "   macro avg       0.69      0.67      0.68       599\n",
            "weighted avg       0.71      0.72      0.71       599\n",
            "\n",
            "              precision    recall  f1-score   support\n",
            "\n",
            "          -1       0.76      0.80      0.78       389\n",
            "           1       0.59      0.52      0.55       210\n",
            "\n",
            "    accuracy                           0.70       599\n",
            "   macro avg       0.67      0.66      0.67       599\n",
            "weighted avg       0.70      0.70      0.70       599\n",
            "\n"
          ]
        },
        {
          "output_type": "execute_result",
          "data": {
            "text/plain": [
              "0.7115191986644407"
            ]
          },
          "metadata": {},
          "execution_count": 112
        }
      ]
    },
    {
      "cell_type": "code",
      "source": [
        "# Оценим качество с помощью перекрестной проверки и доли правильных ответов\n",
        "cross = cross_val_score(logreg, X_angiopat, y_angiopat, cv=5, scoring = 'f1_weighted')\n",
        "np.mean(cross)"
      ],
      "metadata": {
        "colab": {
          "base_uri": "https://localhost:8080/"
        },
        "id": "xRlRE0CaV3Nn",
        "outputId": "fee382a1-3ef6-41a9-c116-cd7d668b395e"
      },
      "execution_count": 113,
      "outputs": [
        {
          "output_type": "execute_result",
          "data": {
            "text/plain": [
              "0.7103731226609364"
            ]
          },
          "metadata": {},
          "execution_count": 113
        }
      ]
    },
    {
      "cell_type": "code",
      "source": [
        "#Модель случайного леса \n",
        "from sklearn.ensemble import RandomForestClassifier\n",
        "forest = RandomForestClassifier(n_estimators=100,\n",
        "                               criterion='entropy', \n",
        "                               min_samples_split=12)\n",
        "forest = forest.fit(X_train, y_train)"
      ],
      "metadata": {
        "id": "QrKFcY4hoExP"
      },
      "execution_count": 114,
      "outputs": []
    },
    {
      "cell_type": "code",
      "source": [
        "# Оценим качество с помощью перекрестной проверки и доли правильных ответов\n",
        "cross = cross_val_score(forest,X_angiopat, y_angiopat, cv=5, scoring = make_scorer(classification_report_with_accuracy_score))\n",
        "np.mean(cross)"
      ],
      "metadata": {
        "colab": {
          "base_uri": "https://localhost:8080/"
        },
        "id": "Hsx4TplxTljV",
        "outputId": "d90d322a-aa47-4b1e-9bda-cf56753d30f0"
      },
      "execution_count": 115,
      "outputs": [
        {
          "output_type": "stream",
          "name": "stdout",
          "text": [
            "              precision    recall  f1-score   support\n",
            "\n",
            "          -1       0.77      0.86      0.81       388\n",
            "           1       0.67      0.54      0.59       211\n",
            "\n",
            "    accuracy                           0.74       599\n",
            "   macro avg       0.72      0.70      0.70       599\n",
            "weighted avg       0.74      0.74      0.74       599\n",
            "\n",
            "              precision    recall  f1-score   support\n",
            "\n",
            "          -1       0.79      0.81      0.80       388\n",
            "           1       0.63      0.61      0.62       211\n",
            "\n",
            "    accuracy                           0.74       599\n",
            "   macro avg       0.71      0.71      0.71       599\n",
            "weighted avg       0.73      0.74      0.74       599\n",
            "\n",
            "              precision    recall  f1-score   support\n",
            "\n",
            "          -1       0.78      0.85      0.81       388\n",
            "           1       0.67      0.55      0.60       211\n",
            "\n",
            "    accuracy                           0.74       599\n",
            "   macro avg       0.72      0.70      0.71       599\n",
            "weighted avg       0.74      0.74      0.74       599\n",
            "\n",
            "              precision    recall  f1-score   support\n",
            "\n",
            "          -1       0.76      0.87      0.81       388\n",
            "           1       0.67      0.48      0.56       211\n",
            "\n",
            "    accuracy                           0.73       599\n",
            "   macro avg       0.71      0.68      0.68       599\n",
            "weighted avg       0.73      0.73      0.72       599\n",
            "\n",
            "              precision    recall  f1-score   support\n",
            "\n",
            "          -1       0.77      0.84      0.80       389\n",
            "           1       0.64      0.54      0.59       210\n",
            "\n",
            "    accuracy                           0.73       599\n",
            "   macro avg       0.71      0.69      0.69       599\n",
            "weighted avg       0.73      0.73      0.73       599\n",
            "\n"
          ]
        },
        {
          "output_type": "execute_result",
          "data": {
            "text/plain": [
              "0.7382303839732888"
            ]
          },
          "metadata": {},
          "execution_count": 115
        }
      ]
    },
    {
      "cell_type": "code",
      "source": [
        "from sklearn.model_selection import cross_val_score\n",
        "# Оценим качество с помощью перекрестной проверки и доли правильных ответов\n",
        "cross = cross_val_score(forest, X_train, y_train, cv=5, scoring = 'f1_weighted')\n",
        "np.mean(cross)"
      ],
      "metadata": {
        "colab": {
          "base_uri": "https://localhost:8080/"
        },
        "id": "qD_4J3ZRTlgb",
        "outputId": "21408aa8-6cd1-4850-e8ee-19ba7767081c"
      },
      "execution_count": 116,
      "outputs": [
        {
          "output_type": "execute_result",
          "data": {
            "text/plain": [
              "0.7179338164463374"
            ]
          },
          "metadata": {},
          "execution_count": 116
        }
      ]
    },
    {
      "cell_type": "code",
      "source": [
        "#Градиентный бустинг\n",
        "from sklearn.ensemble import GradientBoostingClassifier\n",
        "gradient = GradientBoostingClassifier(n_estimators=100,                                \n",
        "                                    max_depth=7)\n",
        "gradient = gradient.fit(X_train, y_train)"
      ],
      "metadata": {
        "id": "BBbKyRnvTldb"
      },
      "execution_count": 117,
      "outputs": []
    },
    {
      "cell_type": "code",
      "source": [
        "# Оценим качество с помощью перекрестной проверки и доли правильных ответов\n",
        "cross = cross_val_score(gradient,X_angiopat, y_angiopat, cv=5, scoring = make_scorer(classification_report_with_accuracy_score))\n",
        "np.mean(cross)"
      ],
      "metadata": {
        "colab": {
          "base_uri": "https://localhost:8080/"
        },
        "id": "uYTrdWivTlad",
        "outputId": "98e23c81-f574-4854-dc2b-fa69e14cb139"
      },
      "execution_count": 118,
      "outputs": [
        {
          "output_type": "stream",
          "name": "stdout",
          "text": [
            "              precision    recall  f1-score   support\n",
            "\n",
            "          -1       0.77      0.86      0.81       388\n",
            "           1       0.67      0.52      0.59       211\n",
            "\n",
            "    accuracy                           0.74       599\n",
            "   macro avg       0.72      0.69      0.70       599\n",
            "weighted avg       0.74      0.74      0.73       599\n",
            "\n",
            "              precision    recall  f1-score   support\n",
            "\n",
            "          -1       0.76      0.82      0.79       388\n",
            "           1       0.62      0.52      0.57       211\n",
            "\n",
            "    accuracy                           0.72       599\n",
            "   macro avg       0.69      0.67      0.68       599\n",
            "weighted avg       0.71      0.72      0.71       599\n",
            "\n",
            "              precision    recall  f1-score   support\n",
            "\n",
            "          -1       0.76      0.86      0.81       388\n",
            "           1       0.66      0.49      0.56       211\n",
            "\n",
            "    accuracy                           0.73       599\n",
            "   macro avg       0.71      0.68      0.68       599\n",
            "weighted avg       0.72      0.73      0.72       599\n",
            "\n",
            "              precision    recall  f1-score   support\n",
            "\n",
            "          -1       0.75      0.88      0.81       388\n",
            "           1       0.68      0.45      0.54       211\n",
            "\n",
            "    accuracy                           0.73       599\n",
            "   macro avg       0.71      0.67      0.68       599\n",
            "weighted avg       0.72      0.73      0.72       599\n",
            "\n",
            "              precision    recall  f1-score   support\n",
            "\n",
            "          -1       0.76      0.84      0.80       389\n",
            "           1       0.63      0.51      0.57       210\n",
            "\n",
            "    accuracy                           0.72       599\n",
            "   macro avg       0.69      0.67      0.68       599\n",
            "weighted avg       0.71      0.72      0.72       599\n",
            "\n"
          ]
        },
        {
          "output_type": "execute_result",
          "data": {
            "text/plain": [
              "0.7292153589315525"
            ]
          },
          "metadata": {},
          "execution_count": 118
        }
      ]
    },
    {
      "cell_type": "code",
      "source": [
        "from sklearn.model_selection import cross_val_score\n",
        "# Оценим качество с помощью перекрестной проверки и доли правильных ответов\n",
        "cross = cross_val_score(gradient, X_train, y_train, cv=5, scoring = 'f1_weighted')\n",
        "np.mean(cross)"
      ],
      "metadata": {
        "colab": {
          "base_uri": "https://localhost:8080/"
        },
        "id": "rq5WQu4pTvIt",
        "outputId": "e52b2378-db3a-4440-a7eb-a9f278511607"
      },
      "execution_count": 119,
      "outputs": [
        {
          "output_type": "execute_result",
          "data": {
            "text/plain": [
              "0.7111776141344694"
            ]
          },
          "metadata": {},
          "execution_count": 119
        }
      ]
    },
    {
      "cell_type": "code",
      "source": [
        "#Адаптивный бустинг\n",
        "from sklearn.ensemble import AdaBoostClassifier\n",
        "ada = AdaBoostClassifier(n_estimators=100)\n",
        "ada = ada.fit(X_train, y_train)"
      ],
      "metadata": {
        "id": "iQX6XB8VTvFb"
      },
      "execution_count": 120,
      "outputs": []
    },
    {
      "cell_type": "code",
      "source": [
        "# Оценим качество с помощью перекрестной проверки и доли правильных ответов\n",
        "cross = cross_val_score(ada, X_angiopat, y_angiopat, cv=5, scoring = make_scorer(classification_report_with_accuracy_score))\n",
        "np.mean(cross)"
      ],
      "metadata": {
        "colab": {
          "base_uri": "https://localhost:8080/"
        },
        "id": "89dqvetHTuqn",
        "outputId": "b97ddda3-833a-4836-9a39-af7ceafe99e0"
      },
      "execution_count": 121,
      "outputs": [
        {
          "output_type": "stream",
          "name": "stdout",
          "text": [
            "              precision    recall  f1-score   support\n",
            "\n",
            "          -1       0.76      0.84      0.80       388\n",
            "           1       0.64      0.52      0.57       211\n",
            "\n",
            "    accuracy                           0.73       599\n",
            "   macro avg       0.70      0.68      0.69       599\n",
            "weighted avg       0.72      0.73      0.72       599\n",
            "\n",
            "              precision    recall  f1-score   support\n",
            "\n",
            "          -1       0.79      0.84      0.81       388\n",
            "           1       0.67      0.59      0.62       211\n",
            "\n",
            "    accuracy                           0.75       599\n",
            "   macro avg       0.73      0.71      0.72       599\n",
            "weighted avg       0.75      0.75      0.75       599\n",
            "\n",
            "              precision    recall  f1-score   support\n",
            "\n",
            "          -1       0.78      0.85      0.81       388\n",
            "           1       0.67      0.56      0.61       211\n",
            "\n",
            "    accuracy                           0.75       599\n",
            "   macro avg       0.73      0.71      0.71       599\n",
            "weighted avg       0.74      0.75      0.74       599\n",
            "\n",
            "              precision    recall  f1-score   support\n",
            "\n",
            "          -1       0.77      0.85      0.81       388\n",
            "           1       0.66      0.53      0.58       211\n",
            "\n",
            "    accuracy                           0.74       599\n",
            "   macro avg       0.71      0.69      0.70       599\n",
            "weighted avg       0.73      0.74      0.73       599\n",
            "\n",
            "              precision    recall  f1-score   support\n",
            "\n",
            "          -1       0.77      0.82      0.79       389\n",
            "           1       0.62      0.55      0.58       210\n",
            "\n",
            "    accuracy                           0.72       599\n",
            "   macro avg       0.69      0.68      0.69       599\n",
            "weighted avg       0.72      0.72      0.72       599\n",
            "\n"
          ]
        },
        {
          "output_type": "execute_result",
          "data": {
            "text/plain": [
              "0.7372287145242071"
            ]
          },
          "metadata": {},
          "execution_count": 121
        }
      ]
    },
    {
      "cell_type": "code",
      "source": [
        "from sklearn.model_selection import cross_val_score\n",
        "# Оценим качество с помощью перекрестной проверки и доли правильных ответов\n",
        "cross = cross_val_score(ada, X_train, y_train, cv=5, scoring = 'f1_weighted')\n",
        "np.mean(cross)"
      ],
      "metadata": {
        "colab": {
          "base_uri": "https://localhost:8080/"
        },
        "id": "A3rdgxc5TunW",
        "outputId": "404b4c61-5a3f-48be-c9d3-48634b18e0ad"
      },
      "execution_count": 122,
      "outputs": [
        {
          "output_type": "execute_result",
          "data": {
            "text/plain": [
              "0.7348739717638111"
            ]
          },
          "metadata": {},
          "execution_count": 122
        }
      ]
    },
    {
      "cell_type": "code",
      "source": [
        ""
      ],
      "metadata": {
        "id": "P5Erbq5WTukQ"
      },
      "execution_count": 122,
      "outputs": []
    }
  ]
}