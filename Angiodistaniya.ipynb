{
  "nbformat": 4,
  "nbformat_minor": 0,
  "metadata": {
    "colab": {
      "name": "Angiodistaniya.ipynb",
      "provenance": [],
      "collapsed_sections": []
    },
    "kernelspec": {
      "name": "python3",
      "display_name": "Python 3"
    },
    "language_info": {
      "name": "python"
    }
  },
  "cells": [
    {
      "cell_type": "code",
      "execution_count": 31,
      "metadata": {
        "id": "4VelGpgw62BH"
      },
      "outputs": [],
      "source": [
        "import pandas as pd"
      ]
    },
    {
      "cell_type": "code",
      "source": [
        "df = pd.read_excel('model_3.xlsx') # Считываем данные\n",
        "df.head()"
      ],
      "metadata": {
        "colab": {
          "base_uri": "https://localhost:8080/",
          "height": 236
        },
        "id": "dNbh3ylF69B6",
        "outputId": "4b377387-5a2b-422b-8c40-79a6453dac90"
      },
      "execution_count": 32,
      "outputs": [
        {
          "output_type": "execute_result",
          "data": {
            "text/plain": [
              "   id_pacienta  Vozrast  pol  staj  HbA1c   TTG  T4cv  rost   ves     Hb  ...  \\\n",
              "0          301        7    0     0   15.8  3.55  12.9   128  24.0  116.0  ...   \n",
              "1          301        7    0     5   12.4  5.04  15.4   127  26.0  137.0  ...   \n",
              "2          301        8    0    16   10.3  2.11  13.5   133  30.0  127.0  ...   \n",
              "3          301        8    0    11    0.0  0.00   0.0   130  28.0  138.0  ...   \n",
              "4          301        9    0    23    9.7  2.04  18.1   135  32.0  132.0  ...   \n",
              "\n",
              "   bilirub_nepryam  VD  Angiodist  Angiopat  katapakta  miopiya  Vis(Lev)  \\\n",
              "0              0.0  -1         -1         1         -1       -1       0.4   \n",
              "1              0.0  -1         -1        -1         -1       -1       1.0   \n",
              "2              0.0  -1         -1        -1         -1       -1       1.0   \n",
              "3              0.0  -1         -1         1         -1       -1       1.0   \n",
              "4              0.0  -1          1        -1         -1       -1       1.0   \n",
              "\n",
              "   Vis(Prav)  PNP_enmg  glukoza  \n",
              "0        1.0         1        1  \n",
              "1        1.0        -1        1  \n",
              "2        1.0        -1        1  \n",
              "3        1.0        -1        1  \n",
              "4        1.0        -1       -1  \n",
              "\n",
              "[5 rows x 43 columns]"
            ],
            "text/html": [
              "\n",
              "  <div id=\"df-a126f864-58e0-4a87-8ac0-50b1f98ee80b\">\n",
              "    <div class=\"colab-df-container\">\n",
              "      <div>\n",
              "<style scoped>\n",
              "    .dataframe tbody tr th:only-of-type {\n",
              "        vertical-align: middle;\n",
              "    }\n",
              "\n",
              "    .dataframe tbody tr th {\n",
              "        vertical-align: top;\n",
              "    }\n",
              "\n",
              "    .dataframe thead th {\n",
              "        text-align: right;\n",
              "    }\n",
              "</style>\n",
              "<table border=\"1\" class=\"dataframe\">\n",
              "  <thead>\n",
              "    <tr style=\"text-align: right;\">\n",
              "      <th></th>\n",
              "      <th>id_pacienta</th>\n",
              "      <th>Vozrast</th>\n",
              "      <th>pol</th>\n",
              "      <th>staj</th>\n",
              "      <th>HbA1c</th>\n",
              "      <th>TTG</th>\n",
              "      <th>T4cv</th>\n",
              "      <th>rost</th>\n",
              "      <th>ves</th>\n",
              "      <th>Hb</th>\n",
              "      <th>...</th>\n",
              "      <th>bilirub_nepryam</th>\n",
              "      <th>VD</th>\n",
              "      <th>Angiodist</th>\n",
              "      <th>Angiopat</th>\n",
              "      <th>katapakta</th>\n",
              "      <th>miopiya</th>\n",
              "      <th>Vis(Lev)</th>\n",
              "      <th>Vis(Prav)</th>\n",
              "      <th>PNP_enmg</th>\n",
              "      <th>glukoza</th>\n",
              "    </tr>\n",
              "  </thead>\n",
              "  <tbody>\n",
              "    <tr>\n",
              "      <th>0</th>\n",
              "      <td>301</td>\n",
              "      <td>7</td>\n",
              "      <td>0</td>\n",
              "      <td>0</td>\n",
              "      <td>15.8</td>\n",
              "      <td>3.55</td>\n",
              "      <td>12.9</td>\n",
              "      <td>128</td>\n",
              "      <td>24.0</td>\n",
              "      <td>116.0</td>\n",
              "      <td>...</td>\n",
              "      <td>0.0</td>\n",
              "      <td>-1</td>\n",
              "      <td>-1</td>\n",
              "      <td>1</td>\n",
              "      <td>-1</td>\n",
              "      <td>-1</td>\n",
              "      <td>0.4</td>\n",
              "      <td>1.0</td>\n",
              "      <td>1</td>\n",
              "      <td>1</td>\n",
              "    </tr>\n",
              "    <tr>\n",
              "      <th>1</th>\n",
              "      <td>301</td>\n",
              "      <td>7</td>\n",
              "      <td>0</td>\n",
              "      <td>5</td>\n",
              "      <td>12.4</td>\n",
              "      <td>5.04</td>\n",
              "      <td>15.4</td>\n",
              "      <td>127</td>\n",
              "      <td>26.0</td>\n",
              "      <td>137.0</td>\n",
              "      <td>...</td>\n",
              "      <td>0.0</td>\n",
              "      <td>-1</td>\n",
              "      <td>-1</td>\n",
              "      <td>-1</td>\n",
              "      <td>-1</td>\n",
              "      <td>-1</td>\n",
              "      <td>1.0</td>\n",
              "      <td>1.0</td>\n",
              "      <td>-1</td>\n",
              "      <td>1</td>\n",
              "    </tr>\n",
              "    <tr>\n",
              "      <th>2</th>\n",
              "      <td>301</td>\n",
              "      <td>8</td>\n",
              "      <td>0</td>\n",
              "      <td>16</td>\n",
              "      <td>10.3</td>\n",
              "      <td>2.11</td>\n",
              "      <td>13.5</td>\n",
              "      <td>133</td>\n",
              "      <td>30.0</td>\n",
              "      <td>127.0</td>\n",
              "      <td>...</td>\n",
              "      <td>0.0</td>\n",
              "      <td>-1</td>\n",
              "      <td>-1</td>\n",
              "      <td>-1</td>\n",
              "      <td>-1</td>\n",
              "      <td>-1</td>\n",
              "      <td>1.0</td>\n",
              "      <td>1.0</td>\n",
              "      <td>-1</td>\n",
              "      <td>1</td>\n",
              "    </tr>\n",
              "    <tr>\n",
              "      <th>3</th>\n",
              "      <td>301</td>\n",
              "      <td>8</td>\n",
              "      <td>0</td>\n",
              "      <td>11</td>\n",
              "      <td>0.0</td>\n",
              "      <td>0.00</td>\n",
              "      <td>0.0</td>\n",
              "      <td>130</td>\n",
              "      <td>28.0</td>\n",
              "      <td>138.0</td>\n",
              "      <td>...</td>\n",
              "      <td>0.0</td>\n",
              "      <td>-1</td>\n",
              "      <td>-1</td>\n",
              "      <td>1</td>\n",
              "      <td>-1</td>\n",
              "      <td>-1</td>\n",
              "      <td>1.0</td>\n",
              "      <td>1.0</td>\n",
              "      <td>-1</td>\n",
              "      <td>1</td>\n",
              "    </tr>\n",
              "    <tr>\n",
              "      <th>4</th>\n",
              "      <td>301</td>\n",
              "      <td>9</td>\n",
              "      <td>0</td>\n",
              "      <td>23</td>\n",
              "      <td>9.7</td>\n",
              "      <td>2.04</td>\n",
              "      <td>18.1</td>\n",
              "      <td>135</td>\n",
              "      <td>32.0</td>\n",
              "      <td>132.0</td>\n",
              "      <td>...</td>\n",
              "      <td>0.0</td>\n",
              "      <td>-1</td>\n",
              "      <td>1</td>\n",
              "      <td>-1</td>\n",
              "      <td>-1</td>\n",
              "      <td>-1</td>\n",
              "      <td>1.0</td>\n",
              "      <td>1.0</td>\n",
              "      <td>-1</td>\n",
              "      <td>-1</td>\n",
              "    </tr>\n",
              "  </tbody>\n",
              "</table>\n",
              "<p>5 rows × 43 columns</p>\n",
              "</div>\n",
              "      <button class=\"colab-df-convert\" onclick=\"convertToInteractive('df-a126f864-58e0-4a87-8ac0-50b1f98ee80b')\"\n",
              "              title=\"Convert this dataframe to an interactive table.\"\n",
              "              style=\"display:none;\">\n",
              "        \n",
              "  <svg xmlns=\"http://www.w3.org/2000/svg\" height=\"24px\"viewBox=\"0 0 24 24\"\n",
              "       width=\"24px\">\n",
              "    <path d=\"M0 0h24v24H0V0z\" fill=\"none\"/>\n",
              "    <path d=\"M18.56 5.44l.94 2.06.94-2.06 2.06-.94-2.06-.94-.94-2.06-.94 2.06-2.06.94zm-11 1L8.5 8.5l.94-2.06 2.06-.94-2.06-.94L8.5 2.5l-.94 2.06-2.06.94zm10 10l.94 2.06.94-2.06 2.06-.94-2.06-.94-.94-2.06-.94 2.06-2.06.94z\"/><path d=\"M17.41 7.96l-1.37-1.37c-.4-.4-.92-.59-1.43-.59-.52 0-1.04.2-1.43.59L10.3 9.45l-7.72 7.72c-.78.78-.78 2.05 0 2.83L4 21.41c.39.39.9.59 1.41.59.51 0 1.02-.2 1.41-.59l7.78-7.78 2.81-2.81c.8-.78.8-2.07 0-2.86zM5.41 20L4 18.59l7.72-7.72 1.47 1.35L5.41 20z\"/>\n",
              "  </svg>\n",
              "      </button>\n",
              "      \n",
              "  <style>\n",
              "    .colab-df-container {\n",
              "      display:flex;\n",
              "      flex-wrap:wrap;\n",
              "      gap: 12px;\n",
              "    }\n",
              "\n",
              "    .colab-df-convert {\n",
              "      background-color: #E8F0FE;\n",
              "      border: none;\n",
              "      border-radius: 50%;\n",
              "      cursor: pointer;\n",
              "      display: none;\n",
              "      fill: #1967D2;\n",
              "      height: 32px;\n",
              "      padding: 0 0 0 0;\n",
              "      width: 32px;\n",
              "    }\n",
              "\n",
              "    .colab-df-convert:hover {\n",
              "      background-color: #E2EBFA;\n",
              "      box-shadow: 0px 1px 2px rgba(60, 64, 67, 0.3), 0px 1px 3px 1px rgba(60, 64, 67, 0.15);\n",
              "      fill: #174EA6;\n",
              "    }\n",
              "\n",
              "    [theme=dark] .colab-df-convert {\n",
              "      background-color: #3B4455;\n",
              "      fill: #D2E3FC;\n",
              "    }\n",
              "\n",
              "    [theme=dark] .colab-df-convert:hover {\n",
              "      background-color: #434B5C;\n",
              "      box-shadow: 0px 1px 3px 1px rgba(0, 0, 0, 0.15);\n",
              "      filter: drop-shadow(0px 1px 2px rgba(0, 0, 0, 0.3));\n",
              "      fill: #FFFFFF;\n",
              "    }\n",
              "  </style>\n",
              "\n",
              "      <script>\n",
              "        const buttonEl =\n",
              "          document.querySelector('#df-a126f864-58e0-4a87-8ac0-50b1f98ee80b button.colab-df-convert');\n",
              "        buttonEl.style.display =\n",
              "          google.colab.kernel.accessAllowed ? 'block' : 'none';\n",
              "\n",
              "        async function convertToInteractive(key) {\n",
              "          const element = document.querySelector('#df-a126f864-58e0-4a87-8ac0-50b1f98ee80b');\n",
              "          const dataTable =\n",
              "            await google.colab.kernel.invokeFunction('convertToInteractive',\n",
              "                                                     [key], {});\n",
              "          if (!dataTable) return;\n",
              "\n",
              "          const docLinkHtml = 'Like what you see? Visit the ' +\n",
              "            '<a target=\"_blank\" href=https://colab.research.google.com/notebooks/data_table.ipynb>data table notebook</a>'\n",
              "            + ' to learn more about interactive tables.';\n",
              "          element.innerHTML = '';\n",
              "          dataTable['output_type'] = 'display_data';\n",
              "          await google.colab.output.renderOutput(dataTable, element);\n",
              "          const docLink = document.createElement('div');\n",
              "          docLink.innerHTML = docLinkHtml;\n",
              "          element.appendChild(docLink);\n",
              "        }\n",
              "      </script>\n",
              "    </div>\n",
              "  </div>\n",
              "  "
            ]
          },
          "metadata": {},
          "execution_count": 32
        }
      ]
    },
    {
      "cell_type": "code",
      "source": [
        "del df['id_pacienta']"
      ],
      "metadata": {
        "id": "xtgZyweE68_e"
      },
      "execution_count": 33,
      "outputs": []
    },
    {
      "cell_type": "code",
      "source": [
        "X_angiopat = df.drop('Angiopat', axis = 1) # зависимые переменные\n",
        "y_angiopat = df['Angiopat'] # независимая переменная\n",
        "X_angiodist = df.drop('Angiodist', axis = 1) # зависимые переменные\n",
        "y_angiodist = df['Angiodist'] # независимая переменная\n",
        "X_vd = df.drop('VD', axis = 1) # зависимые переменные\n",
        "y_vd = df['VD'] # независимая переменная"
      ],
      "metadata": {
        "id": "o-Sx5ZxO688J"
      },
      "execution_count": 34,
      "outputs": []
    },
    {
      "cell_type": "code",
      "source": [
        "from sklearn.feature_selection import mutual_info_classif\n",
        "mutual_info_classif(X_angiodist,y_angiodist) # вычисляем MI"
      ],
      "metadata": {
        "colab": {
          "base_uri": "https://localhost:8080/"
        },
        "id": "S2QFO3fo686b",
        "outputId": "d6b49af8-c6f0-4e21-c8d6-d609b3b510ee"
      },
      "execution_count": 35,
      "outputs": [
        {
          "output_type": "execute_result",
          "data": {
            "text/plain": [
              "array([0.00622211, 0.02009074, 0.00235975, 0.00819652, 0.00441209,\n",
              "       0.01844438, 0.00088109, 0.01256593, 0.01491736, 0.        ,\n",
              "       0.0089143 , 0.        , 0.01411153, 0.        , 0.00360266,\n",
              "       0.        , 0.01990527, 0.00444554, 0.01251697, 0.01206701,\n",
              "       0.01309586, 0.00855015, 0.0120928 , 0.01239989, 0.        ,\n",
              "       0.00016319, 0.        , 0.01192062, 0.        , 0.01405167,\n",
              "       0.00450981, 0.01557099, 0.00462945, 0.04073567, 0.11947951,\n",
              "       0.        , 0.01675687, 0.0079936 , 0.00896981, 0.0031355 ,\n",
              "       0.00156818])"
            ]
          },
          "metadata": {},
          "execution_count": 35
        }
      ]
    },
    {
      "cell_type": "code",
      "source": [
        "importances = pd.Series(mutual_info_classif(X_angiodist, y_angiodist), index=X_angiodist.columns) # записываем в Серию\n",
        "importances.sort_values().plot.bar() # сортируем и рисуем столбиковую диаграмму"
      ],
      "metadata": {
        "colab": {
          "base_uri": "https://localhost:8080/",
          "height": 353
        },
        "id": "3DVDOBF36839",
        "outputId": "f415dcc6-b8db-4e83-8c15-825bef77fedd"
      },
      "execution_count": 36,
      "outputs": [
        {
          "output_type": "execute_result",
          "data": {
            "text/plain": [
              "<matplotlib.axes._subplots.AxesSubplot at 0x7f7517ea28d0>"
            ]
          },
          "metadata": {},
          "execution_count": 36
        },
        {
          "output_type": "display_data",
          "data": {
            "text/plain": [
              "<Figure size 432x288 with 1 Axes>"
            ],
            "image/png": "[encoded data removed]"
          },
          "metadata": {
            "needs_background": "light"
          }
        }
      ]
    },
    {
      "cell_type": "code",
      "source": [
        "X_angiodist = X_angiodist[['T4cv', 'mochevina', 'VD', 'Angiopat']]"
      ],
      "metadata": {
        "id": "7WsbZkpL7EAe"
      },
      "execution_count": 37,
      "outputs": []
    },
    {
      "cell_type": "code",
      "source": [
        "# Проведем стандартизацию данных\n",
        "from sklearn.preprocessing import StandardScaler\n",
        "scaler = StandardScaler()\n",
        "X_angiodist = scaler.fit_transform(X_angiodist)"
      ],
      "metadata": {
        "id": "eGal_3-c7D9U"
      },
      "execution_count": 38,
      "outputs": []
    },
    {
      "cell_type": "code",
      "source": [
        "# Вопользуемся методом главных компонент и сократим данные до 2х компонент\n",
        "from sklearn.decomposition import PCA\n",
        "pca_angiodist = PCA(n_components = 2) # Cоздаем экземпляр класса, n_components - количества компонент\n",
        "X_pca_angiodist = pca_angiodist.fit_transform(X_angiodist) # Трансформируем данные: из 46 признаков получаем 2\n",
        "X_pca_angiodist # Значения компонент"
      ],
      "metadata": {
        "colab": {
          "base_uri": "https://localhost:8080/"
        },
        "id": "0fPiyhBq7D63",
        "outputId": "e3f0ac0a-b61a-4648-ac25-7a7522494d8c"
      },
      "execution_count": 39,
      "outputs": [
        {
          "output_type": "execute_result",
          "data": {
            "text/plain": [
              "array([[-0.92945577,  1.12652941],\n",
              "       [ 0.37492542,  0.26873434],\n",
              "       [ 0.04215292, -0.06103218],\n",
              "       ...,\n",
              "       [-1.99162891,  0.23827961],\n",
              "       [ 0.00737668, -0.14570486],\n",
              "       [ 1.60848023, -0.51144932]])"
            ]
          },
          "metadata": {},
          "execution_count": 39
        }
      ]
    },
    {
      "cell_type": "code",
      "source": [
        "# Запишем результат в новый DF и добавим столбец class\n",
        "result_angiodist = pd.DataFrame()\n",
        "result_angiodist['PC1'] = X_pca_angiodist[: , 0]\n",
        "result_angiodist['PC2'] = X_pca_angiodist[: , 1]\n",
        "result_angiodist['class'] = y_angiodist\n",
        "\n",
        "result_angiodist.head()"
      ],
      "metadata": {
        "colab": {
          "base_uri": "https://localhost:8080/",
          "height": 206
        },
        "id": "pbcTrm-O7D3e",
        "outputId": "c834595c-98c5-4fba-8f3b-ddf6186aa1dd"
      },
      "execution_count": 40,
      "outputs": [
        {
          "output_type": "execute_result",
          "data": {
            "text/plain": [
              "        PC1       PC2  class\n",
              "0 -0.929456  1.126529     -1\n",
              "1  0.374925  0.268734     -1\n",
              "2  0.042153 -0.061032     -1\n",
              "3 -1.510347  0.781276     -1\n",
              "4  0.408523  0.241730      1"
            ],
            "text/html": [
              "\n",
              "  <div id=\"df-c7ec8dd8-2eb3-41ff-9ec3-a3c676cae16a\">\n",
              "    <div class=\"colab-df-container\">\n",
              "      <div>\n",
              "<style scoped>\n",
              "    .dataframe tbody tr th:only-of-type {\n",
              "        vertical-align: middle;\n",
              "    }\n",
              "\n",
              "    .dataframe tbody tr th {\n",
              "        vertical-align: top;\n",
              "    }\n",
              "\n",
              "    .dataframe thead th {\n",
              "        text-align: right;\n",
              "    }\n",
              "</style>\n",
              "<table border=\"1\" class=\"dataframe\">\n",
              "  <thead>\n",
              "    <tr style=\"text-align: right;\">\n",
              "      <th></th>\n",
              "      <th>PC1</th>\n",
              "      <th>PC2</th>\n",
              "      <th>class</th>\n",
              "    </tr>\n",
              "  </thead>\n",
              "  <tbody>\n",
              "    <tr>\n",
              "      <th>0</th>\n",
              "      <td>-0.929456</td>\n",
              "      <td>1.126529</td>\n",
              "      <td>-1</td>\n",
              "    </tr>\n",
              "    <tr>\n",
              "      <th>1</th>\n",
              "      <td>0.374925</td>\n",
              "      <td>0.268734</td>\n",
              "      <td>-1</td>\n",
              "    </tr>\n",
              "    <tr>\n",
              "      <th>2</th>\n",
              "      <td>0.042153</td>\n",
              "      <td>-0.061032</td>\n",
              "      <td>-1</td>\n",
              "    </tr>\n",
              "    <tr>\n",
              "      <th>3</th>\n",
              "      <td>-1.510347</td>\n",
              "      <td>0.781276</td>\n",
              "      <td>-1</td>\n",
              "    </tr>\n",
              "    <tr>\n",
              "      <th>4</th>\n",
              "      <td>0.408523</td>\n",
              "      <td>0.241730</td>\n",
              "      <td>1</td>\n",
              "    </tr>\n",
              "  </tbody>\n",
              "</table>\n",
              "</div>\n",
              "      <button class=\"colab-df-convert\" onclick=\"convertToInteractive('df-c7ec8dd8-2eb3-41ff-9ec3-a3c676cae16a')\"\n",
              "              title=\"Convert this dataframe to an interactive table.\"\n",
              "              style=\"display:none;\">\n",
              "        \n",
              "  <svg xmlns=\"http://www.w3.org/2000/svg\" height=\"24px\"viewBox=\"0 0 24 24\"\n",
              "       width=\"24px\">\n",
              "    <path d=\"M0 0h24v24H0V0z\" fill=\"none\"/>\n",
              "    <path d=\"M18.56 5.44l.94 2.06.94-2.06 2.06-.94-2.06-.94-.94-2.06-.94 2.06-2.06.94zm-11 1L8.5 8.5l.94-2.06 2.06-.94-2.06-.94L8.5 2.5l-.94 2.06-2.06.94zm10 10l.94 2.06.94-2.06 2.06-.94-2.06-.94-.94-2.06-.94 2.06-2.06.94z\"/><path d=\"M17.41 7.96l-1.37-1.37c-.4-.4-.92-.59-1.43-.59-.52 0-1.04.2-1.43.59L10.3 9.45l-7.72 7.72c-.78.78-.78 2.05 0 2.83L4 21.41c.39.39.9.59 1.41.59.51 0 1.02-.2 1.41-.59l7.78-7.78 2.81-2.81c.8-.78.8-2.07 0-2.86zM5.41 20L4 18.59l7.72-7.72 1.47 1.35L5.41 20z\"/>\n",
              "  </svg>\n",
              "      </button>\n",
              "      \n",
              "  <style>\n",
              "    .colab-df-container {\n",
              "      display:flex;\n",
              "      flex-wrap:wrap;\n",
              "      gap: 12px;\n",
              "    }\n",
              "\n",
              "    .colab-df-convert {\n",
              "      background-color: #E8F0FE;\n",
              "      border: none;\n",
              "      border-radius: 50%;\n",
              "      cursor: pointer;\n",
              "      display: none;\n",
              "      fill: #1967D2;\n",
              "      height: 32px;\n",
              "      padding: 0 0 0 0;\n",
              "      width: 32px;\n",
              "    }\n",
              "\n",
              "    .colab-df-convert:hover {\n",
              "      background-color: #E2EBFA;\n",
              "      box-shadow: 0px 1px 2px rgba(60, 64, 67, 0.3), 0px 1px 3px 1px rgba(60, 64, 67, 0.15);\n",
              "      fill: #174EA6;\n",
              "    }\n",
              "\n",
              "    [theme=dark] .colab-df-convert {\n",
              "      background-color: #3B4455;\n",
              "      fill: #D2E3FC;\n",
              "    }\n",
              "\n",
              "    [theme=dark] .colab-df-convert:hover {\n",
              "      background-color: #434B5C;\n",
              "      box-shadow: 0px 1px 3px 1px rgba(0, 0, 0, 0.15);\n",
              "      filter: drop-shadow(0px 1px 2px rgba(0, 0, 0, 0.3));\n",
              "      fill: #FFFFFF;\n",
              "    }\n",
              "  </style>\n",
              "\n",
              "      <script>\n",
              "        const buttonEl =\n",
              "          document.querySelector('#df-c7ec8dd8-2eb3-41ff-9ec3-a3c676cae16a button.colab-df-convert');\n",
              "        buttonEl.style.display =\n",
              "          google.colab.kernel.accessAllowed ? 'block' : 'none';\n",
              "\n",
              "        async function convertToInteractive(key) {\n",
              "          const element = document.querySelector('#df-c7ec8dd8-2eb3-41ff-9ec3-a3c676cae16a');\n",
              "          const dataTable =\n",
              "            await google.colab.kernel.invokeFunction('convertToInteractive',\n",
              "                                                     [key], {});\n",
              "          if (!dataTable) return;\n",
              "\n",
              "          const docLinkHtml = 'Like what you see? Visit the ' +\n",
              "            '<a target=\"_blank\" href=https://colab.research.google.com/notebooks/data_table.ipynb>data table notebook</a>'\n",
              "            + ' to learn more about interactive tables.';\n",
              "          element.innerHTML = '';\n",
              "          dataTable['output_type'] = 'display_data';\n",
              "          await google.colab.output.renderOutput(dataTable, element);\n",
              "          const docLink = document.createElement('div');\n",
              "          docLink.innerHTML = docLinkHtml;\n",
              "          element.appendChild(docLink);\n",
              "        }\n",
              "      </script>\n",
              "    </div>\n",
              "  </div>\n",
              "  "
            ]
          },
          "metadata": {},
          "execution_count": 40
        }
      ]
    },
    {
      "cell_type": "code",
      "source": [
        "import matplotlib.pyplot as plt\n",
        "fig = plt.figure(figsize = (8,8))\n",
        "r1 = result_angiodist[result_angiodist['class'] == -1]\n",
        "plt.scatter(r1['PC1'], r1['PC2'], c='r', marker='+')\n",
        "r2 =  result_angiodist[result_angiodist['class'] == 1]\n",
        "plt.scatter(r2['PC1'], r2['PC2'], c='b', marker='o')\n",
        "plt.show()"
      ],
      "metadata": {
        "colab": {
          "base_uri": "https://localhost:8080/",
          "height": 483
        },
        "id": "PE_0GBFk7D0M",
        "outputId": "f7fbb232-97b4-430c-e430-411e0f4baa99"
      },
      "execution_count": 41,
      "outputs": [
        {
          "output_type": "display_data",
          "data": {
            "text/plain": [
              "<Figure size 576x576 with 1 Axes>"
            ],
            "image/png": "[encoded data removed]"
          },
          "metadata": {
            "needs_background": "light"
          }
        }
      ]
    },
    {
      "cell_type": "code",
      "source": [
        "# Уберем выбросы с помощью DBSCAN\n",
        "from sklearn.cluster import DBSCAN\n",
        "import numpy as np\n",
        "X = result_angiodist[['PC1', 'PC2']]\n",
        "dbscan = DBSCAN(eps=1.5, min_samples=10) # Создаем экземпляр класса\n",
        "labels = dbscan.fit_predict(X)\n",
        "print('Получены кластеры:', np.unique(labels))\n",
        "X['dbscan_lab'] = labels\n",
        "X['class'] = y_angiodist"
      ],
      "metadata": {
        "colab": {
          "base_uri": "https://localhost:8080/"
        },
        "id": "PHRXBM0O7pxN",
        "outputId": "c688e671-32ff-44cf-8ee8-0c4afe1cb853"
      },
      "execution_count": 42,
      "outputs": [
        {
          "output_type": "stream",
          "name": "stdout",
          "text": [
            "Получены кластеры: [-1  0]\n"
          ]
        }
      ]
    },
    {
      "cell_type": "code",
      "source": [
        "# Визуализируем\n",
        "fig = plt.figure(figsize = (8,8))\n",
        "r1 = X[X['dbscan_lab'] == -1]\n",
        "plt.scatter(X['PC1'], X['PC2'], c='r', marker='+') # шум\n",
        "r2 = X[X['dbscan_lab'] == 0]\n",
        "plt.scatter(r2['PC1'], r2['PC2'], c='b', marker='o') # не шум\n",
        "plt.show()"
      ],
      "metadata": {
        "colab": {
          "base_uri": "https://localhost:8080/",
          "height": 483
        },
        "id": "jk4VKC_U7pt0",
        "outputId": "abb56347-e14b-431a-8632-7bc5523b7a9e"
      },
      "execution_count": 43,
      "outputs": [
        {
          "output_type": "display_data",
          "data": {
            "text/plain": [
              "<Figure size 576x576 with 1 Axes>"
            ],
            "image/png": "[encoded data removed]"
          },
          "metadata": {
            "needs_background": "light"
          }
        }
      ]
    },
    {
      "cell_type": "code",
      "source": [
        "X = X[X['dbscan_lab'] == 0] # Возьмем только хорошие точки"
      ],
      "metadata": {
        "id": "CMOqMilo7prJ"
      },
      "execution_count": 44,
      "outputs": []
    },
    {
      "cell_type": "code",
      "source": [
        "fig = plt.figure(figsize = (8,8))\n",
        "r1 = X[X['class'] == -1]\n",
        "plt.scatter(r1['PC1'], r1['PC2'], c='r', marker='+')\n",
        "r2 = X[X['class'] == 1]\n",
        "plt.scatter(r2['PC1'], r2['PC2'], c='b', marker='o')\n",
        "plt.show()"
      ],
      "metadata": {
        "colab": {
          "base_uri": "https://localhost:8080/",
          "height": 483
        },
        "id": "6XGmSi2_8IsN",
        "outputId": "02fa11cf-a9b5-43e7-8f58-f69f69744fee"
      },
      "execution_count": 45,
      "outputs": [
        {
          "output_type": "display_data",
          "data": {
            "text/plain": [
              "<Figure size 576x576 with 1 Axes>"
            ],
            "image/png": "[encoded data removed]"
          },
          "metadata": {
            "needs_background": "light"
          }
        }
      ]
    },
    {
      "cell_type": "code",
      "source": [
        "X_train = X[['PC1', 'PC2']].values\n",
        "y_train = X['class'].values "
      ],
      "metadata": {
        "id": "L8BBHwJq8Io8"
      },
      "execution_count": 46,
      "outputs": []
    },
    {
      "cell_type": "code",
      "source": [
        "from sklearn.metrics import classification_report\n",
        "from sklearn.model_selection import GridSearchCV\n",
        "from sklearn.metrics import fbeta_score, make_scorer\n",
        "from sklearn.metrics import accuracy_score\n",
        "def classification_report_with_accuracy_score(X_angiodist, y_angiodist):\n",
        "    print (classification_report(X_angiodist, y_angiodist)) # print classification report\n",
        "    return accuracy_score(X_angiodist, y_angiodist) # return accuracy score"
      ],
      "metadata": {
        "id": "NIOnQmbzmsTr"
      },
      "execution_count": 47,
      "outputs": []
    },
    {
      "cell_type": "code",
      "source": [
        "#Модель логистической регрессии\n",
        "from sklearn.linear_model import LogisticRegression\n",
        "logreg = LogisticRegression(C = 0.1, max_iter=500, penalty='l1', solver= 'liblinear')\n",
        "logreg = logreg.fit(X_train, y_train)"
      ],
      "metadata": {
        "id": "o6sVJanE8Jn6"
      },
      "execution_count": 48,
      "outputs": []
    },
    {
      "cell_type": "code",
      "source": [
        "from sklearn.model_selection import cross_val_score\n",
        "# Оценим качество с помощью перекрестной проверки и доли правильных ответов\n",
        "cross = cross_val_score(logreg, X_angiodist, y_angiodist, cv=5, scoring = make_scorer(classification_report_with_accuracy_score))\n",
        "np.mean(cross)"
      ],
      "metadata": {
        "colab": {
          "base_uri": "https://localhost:8080/"
        },
        "id": "Aa5lyOAk8JjJ",
        "outputId": "1d29461e-059a-4efb-befd-51b9f0e9ba49"
      },
      "execution_count": 49,
      "outputs": [
        {
          "output_type": "stream",
          "name": "stdout",
          "text": [
            "              precision    recall  f1-score   support\n",
            "\n",
            "          -1       0.81      0.86      0.83       429\n",
            "           1       0.57      0.49      0.53       170\n",
            "\n",
            "    accuracy                           0.75       599\n",
            "   macro avg       0.69      0.67      0.68       599\n",
            "weighted avg       0.74      0.75      0.74       599\n",
            "\n",
            "              precision    recall  f1-score   support\n",
            "\n",
            "          -1       0.81      0.90      0.85       429\n",
            "           1       0.65      0.48      0.55       170\n",
            "\n",
            "    accuracy                           0.78       599\n",
            "   macro avg       0.73      0.69      0.70       599\n",
            "weighted avg       0.77      0.78      0.77       599\n",
            "\n",
            "              precision    recall  f1-score   support\n",
            "\n",
            "          -1       0.80      0.86      0.83       429\n",
            "           1       0.56      0.45      0.50       170\n",
            "\n",
            "    accuracy                           0.74       599\n",
            "   macro avg       0.68      0.66      0.66       599\n",
            "weighted avg       0.73      0.74      0.73       599\n",
            "\n",
            "              precision    recall  f1-score   support\n",
            "\n",
            "          -1       0.82      0.90      0.86       429\n",
            "           1       0.67      0.51      0.58       170\n",
            "\n",
            "    accuracy                           0.79       599\n",
            "   macro avg       0.75      0.71      0.72       599\n",
            "weighted avg       0.78      0.79      0.78       599\n",
            "\n",
            "              precision    recall  f1-score   support\n",
            "\n",
            "          -1       0.80      0.88      0.84       429\n",
            "           1       0.60      0.46      0.52       170\n",
            "\n",
            "    accuracy                           0.76       599\n",
            "   macro avg       0.70      0.67      0.68       599\n",
            "weighted avg       0.75      0.76      0.75       599\n",
            "\n"
          ]
        },
        {
          "output_type": "execute_result",
          "data": {
            "text/plain": [
              "0.7646076794657763"
            ]
          },
          "metadata": {},
          "execution_count": 49
        }
      ]
    },
    {
      "cell_type": "code",
      "source": [
        "# Оценим качество с помощью перекрестной проверки и доли правильных ответов\n",
        "cross = cross_val_score(logreg, X_angiodist, y_angiodist, cv=5, scoring = 'f1_weighted')\n",
        "np.mean(cross)"
      ],
      "metadata": {
        "colab": {
          "base_uri": "https://localhost:8080/"
        },
        "id": "UXfXvR3HnYsy",
        "outputId": "cba42cf8-1aed-4f70-ad05-a18d18923454"
      },
      "execution_count": 50,
      "outputs": [
        {
          "output_type": "execute_result",
          "data": {
            "text/plain": [
              "0.755391705962737"
            ]
          },
          "metadata": {},
          "execution_count": 50
        }
      ]
    },
    {
      "cell_type": "code",
      "source": [
        "#Модель случайного леса \n",
        "from sklearn.ensemble import RandomForestClassifier\n",
        "forest = RandomForestClassifier(n_estimators=100,\n",
        "                               criterion='entropy', \n",
        "                               min_samples_split=12)\n",
        "forest = forest.fit(X_train, y_train)"
      ],
      "metadata": {
        "id": "lggMwQL08Ill"
      },
      "execution_count": 51,
      "outputs": []
    },
    {
      "cell_type": "code",
      "source": [
        "# Оценим качество с помощью перекрестной проверки и доли правильных ответов\n",
        "cross = cross_val_score(forest,X_angiodist, y_angiodist, cv=5, scoring = make_scorer(classification_report_with_accuracy_score))\n",
        "np.mean(cross)"
      ],
      "metadata": {
        "colab": {
          "base_uri": "https://localhost:8080/"
        },
        "id": "dW09fTzgnxSi",
        "outputId": "8630e430-38d6-4bb5-cd42-6b776686f50d"
      },
      "execution_count": 52,
      "outputs": [
        {
          "output_type": "stream",
          "name": "stdout",
          "text": [
            "              precision    recall  f1-score   support\n",
            "\n",
            "          -1       0.81      0.83      0.82       429\n",
            "           1       0.53      0.51      0.52       170\n",
            "\n",
            "    accuracy                           0.73       599\n",
            "   macro avg       0.67      0.67      0.67       599\n",
            "weighted avg       0.73      0.73      0.73       599\n",
            "\n",
            "              precision    recall  f1-score   support\n",
            "\n",
            "          -1       0.82      0.87      0.84       429\n",
            "           1       0.61      0.51      0.56       170\n",
            "\n",
            "    accuracy                           0.77       599\n",
            "   macro avg       0.71      0.69      0.70       599\n",
            "weighted avg       0.76      0.77      0.76       599\n",
            "\n",
            "              precision    recall  f1-score   support\n",
            "\n",
            "          -1       0.81      0.83      0.82       429\n",
            "           1       0.54      0.49      0.52       170\n",
            "\n",
            "    accuracy                           0.74       599\n",
            "   macro avg       0.67      0.66      0.67       599\n",
            "weighted avg       0.73      0.74      0.73       599\n",
            "\n",
            "              precision    recall  f1-score   support\n",
            "\n",
            "          -1       0.81      0.87      0.84       429\n",
            "           1       0.60      0.49      0.54       170\n",
            "\n",
            "    accuracy                           0.76       599\n",
            "   macro avg       0.70      0.68      0.69       599\n",
            "weighted avg       0.75      0.76      0.75       599\n",
            "\n",
            "              precision    recall  f1-score   support\n",
            "\n",
            "          -1       0.80      0.83      0.81       429\n",
            "           1       0.52      0.47      0.49       170\n",
            "\n",
            "    accuracy                           0.73       599\n",
            "   macro avg       0.66      0.65      0.65       599\n",
            "weighted avg       0.72      0.73      0.72       599\n",
            "\n"
          ]
        },
        {
          "output_type": "execute_result",
          "data": {
            "text/plain": [
              "0.7452420701168615"
            ]
          },
          "metadata": {},
          "execution_count": 52
        }
      ]
    },
    {
      "cell_type": "code",
      "source": [
        "from sklearn.model_selection import cross_val_score\n",
        "# Оценим качество с помощью перекрестной проверки и доли правильных ответов\n",
        "cross = cross_val_score(forest, X_train, y_train, cv=5, scoring = 'f1_weighted')\n",
        "np.mean(cross)"
      ],
      "metadata": {
        "colab": {
          "base_uri": "https://localhost:8080/"
        },
        "id": "KatXZDxj8Snn",
        "outputId": "f62f02d1-d3ca-4551-ade9-fa64ab9ad50d"
      },
      "execution_count": 53,
      "outputs": [
        {
          "output_type": "execute_result",
          "data": {
            "text/plain": [
              "0.7136911022416711"
            ]
          },
          "metadata": {},
          "execution_count": 53
        }
      ]
    },
    {
      "cell_type": "code",
      "source": [
        "#Градиентный бустинг\n",
        "from sklearn.ensemble import GradientBoostingClassifier\n",
        "gradient = GradientBoostingClassifier(n_estimators=100,                                \n",
        "                                    max_depth=7)\n",
        "gradient = gradient.fit(X_train, y_train)"
      ],
      "metadata": {
        "id": "NAhLvhmu8Si6"
      },
      "execution_count": 54,
      "outputs": []
    },
    {
      "cell_type": "code",
      "source": [
        "# Оценим качество с помощью перекрестной проверки и доли правильных ответов\n",
        "cross = cross_val_score(gradient,X_angiodist, y_angiodist, cv=5, scoring = make_scorer(classification_report_with_accuracy_score))\n",
        "np.mean(cross)"
      ],
      "metadata": {
        "colab": {
          "base_uri": "https://localhost:8080/"
        },
        "id": "URkHPlWHoUpl",
        "outputId": "3e8f69d7-7cde-4f2a-ca99-0f7c3adc452a"
      },
      "execution_count": 55,
      "outputs": [
        {
          "output_type": "stream",
          "name": "stdout",
          "text": [
            "              precision    recall  f1-score   support\n",
            "\n",
            "          -1       0.81      0.81      0.81       429\n",
            "           1       0.52      0.51      0.52       170\n",
            "\n",
            "    accuracy                           0.73       599\n",
            "   macro avg       0.66      0.66      0.66       599\n",
            "weighted avg       0.73      0.73      0.73       599\n",
            "\n",
            "              precision    recall  f1-score   support\n",
            "\n",
            "          -1       0.80      0.84      0.82       429\n",
            "           1       0.54      0.46      0.50       170\n",
            "\n",
            "    accuracy                           0.73       599\n",
            "   macro avg       0.67      0.65      0.66       599\n",
            "weighted avg       0.72      0.73      0.73       599\n",
            "\n",
            "              precision    recall  f1-score   support\n",
            "\n",
            "          -1       0.82      0.83      0.83       429\n",
            "           1       0.56      0.54      0.55       170\n",
            "\n",
            "    accuracy                           0.75       599\n",
            "   macro avg       0.69      0.68      0.69       599\n",
            "weighted avg       0.75      0.75      0.75       599\n",
            "\n",
            "              precision    recall  f1-score   support\n",
            "\n",
            "          -1       0.80      0.87      0.83       429\n",
            "           1       0.58      0.45      0.51       170\n",
            "\n",
            "    accuracy                           0.75       599\n",
            "   macro avg       0.69      0.66      0.67       599\n",
            "weighted avg       0.74      0.75      0.74       599\n",
            "\n",
            "              precision    recall  f1-score   support\n",
            "\n",
            "          -1       0.79      0.83      0.81       429\n",
            "           1       0.52      0.45      0.48       170\n",
            "\n",
            "    accuracy                           0.72       599\n",
            "   macro avg       0.66      0.64      0.65       599\n",
            "weighted avg       0.71      0.72      0.72       599\n",
            "\n"
          ]
        },
        {
          "output_type": "execute_result",
          "data": {
            "text/plain": [
              "0.7375626043405676"
            ]
          },
          "metadata": {},
          "execution_count": 55
        }
      ]
    },
    {
      "cell_type": "code",
      "source": [
        "from sklearn.model_selection import cross_val_score\n",
        "# Оценим качество с помощью перекрестной проверки и доли правильных ответов\n",
        "cross = cross_val_score(gradient, X_train, y_train, cv=5, scoring = 'f1_weighted')\n",
        "np.mean(cross)"
      ],
      "metadata": {
        "colab": {
          "base_uri": "https://localhost:8080/"
        },
        "id": "Dioe34iJ8Sf_",
        "outputId": "abe596a6-ea09-4be4-f6df-45df22e5b1e7"
      },
      "execution_count": 56,
      "outputs": [
        {
          "output_type": "execute_result",
          "data": {
            "text/plain": [
              "0.7108093575217358"
            ]
          },
          "metadata": {},
          "execution_count": 56
        }
      ]
    },
    {
      "cell_type": "code",
      "source": [
        "#Адаптивный бустинг\n",
        "from sklearn.ensemble import AdaBoostClassifier\n",
        "ada = AdaBoostClassifier(n_estimators=100)\n",
        "ada = ada.fit(X_train, y_train)"
      ],
      "metadata": {
        "id": "9ljkHFIG8aXZ"
      },
      "execution_count": 57,
      "outputs": []
    },
    {
      "cell_type": "code",
      "source": [
        "# Оценим качество с помощью перекрестной проверки и доли правильных ответов\n",
        "cross = cross_val_score(ada, X_angiodist, y_angiodist, cv=5, scoring = make_scorer(classification_report_with_accuracy_score))\n",
        "np.mean(cross)"
      ],
      "metadata": {
        "colab": {
          "base_uri": "https://localhost:8080/"
        },
        "id": "LgEEvpYLplnp",
        "outputId": "72e5eca0-a773-4230-9c0a-10e526060572"
      },
      "execution_count": 58,
      "outputs": [
        {
          "output_type": "stream",
          "name": "stdout",
          "text": [
            "              precision    recall  f1-score   support\n",
            "\n",
            "          -1       0.79      0.86      0.83       429\n",
            "           1       0.55      0.44      0.49       170\n",
            "\n",
            "    accuracy                           0.74       599\n",
            "   macro avg       0.67      0.65      0.66       599\n",
            "weighted avg       0.73      0.74      0.73       599\n",
            "\n",
            "              precision    recall  f1-score   support\n",
            "\n",
            "          -1       0.80      0.90      0.85       429\n",
            "           1       0.63      0.43      0.51       170\n",
            "\n",
            "    accuracy                           0.77       599\n",
            "   macro avg       0.72      0.67      0.68       599\n",
            "weighted avg       0.75      0.77      0.75       599\n",
            "\n",
            "              precision    recall  f1-score   support\n",
            "\n",
            "          -1       0.79      0.86      0.82       429\n",
            "           1       0.54      0.42      0.47       170\n",
            "\n",
            "    accuracy                           0.73       599\n",
            "   macro avg       0.66      0.64      0.65       599\n",
            "weighted avg       0.72      0.73      0.72       599\n",
            "\n",
            "              precision    recall  f1-score   support\n",
            "\n",
            "          -1       0.83      0.89      0.86       429\n",
            "           1       0.66      0.54      0.59       170\n",
            "\n",
            "    accuracy                           0.79       599\n",
            "   macro avg       0.74      0.71      0.72       599\n",
            "weighted avg       0.78      0.79      0.78       599\n",
            "\n",
            "              precision    recall  f1-score   support\n",
            "\n",
            "          -1       0.80      0.86      0.83       429\n",
            "           1       0.58      0.47      0.52       170\n",
            "\n",
            "    accuracy                           0.75       599\n",
            "   macro avg       0.69      0.67      0.68       599\n",
            "weighted avg       0.74      0.75      0.74       599\n",
            "\n"
          ]
        },
        {
          "output_type": "execute_result",
          "data": {
            "text/plain": [
              "0.7562604340567612"
            ]
          },
          "metadata": {},
          "execution_count": 58
        }
      ]
    },
    {
      "cell_type": "code",
      "source": [
        "from sklearn.model_selection import cross_val_score\n",
        "# Оценим качество с помощью перекрестной проверки и доли правильных ответов\n",
        "cross = cross_val_score(ada, X_train, y_train, cv=5, scoring = 'f1_weighted')\n",
        "np.mean(cross)"
      ],
      "metadata": {
        "colab": {
          "base_uri": "https://localhost:8080/"
        },
        "id": "dPFeH78s8aP3",
        "outputId": "1a2caffe-0ec9-4c7d-a6de-1a629f442fc3"
      },
      "execution_count": 59,
      "outputs": [
        {
          "output_type": "execute_result",
          "data": {
            "text/plain": [
              "0.7527972748505579"
            ]
          },
          "metadata": {},
          "execution_count": 59
        }
      ]
    }
  ]
}